{
 "cells": [
  {
   "cell_type": "code",
   "execution_count": null,
   "metadata": {},
   "outputs": [],
   "source": [
    "import numpy as np\n",
    "import os\n",
    "import PIL\n",
    "import shutil\n",
    "import pathlib\n",
    "import matplotlib.pyplot as plt\n",
    "import tensorflow as tf\n",
    "from tqdm import tqdm\n",
    "from tensorflow.keras.datasets import mnist\n",
    "from tensorflow.keras.utils import to_categorical\n",
    "from tensorflow.keras.models import Sequential\n",
    "from tensorflow.keras.layers import Conv2D, MaxPooling2D, Flatten, Dense, Dropout\n",
    "from tensorflow.keras.optimizers import Adam\n",
    "from tensorflow.keras.preprocessing.image import img_to_array, load_img"
   ]
  },
  {
   "cell_type": "code",
   "execution_count": null,
   "metadata": {},
   "outputs": [],
   "source": [
    "# Data preparation\n",
    "(X_train, y_train), (X_test, y_test) = mnist.load_data()\n",
    "\n",
    "X_train = X_train.reshape(-1, 28, 28, 1).astype('float32') / 255.0\n",
    "X_test = X_test.reshape(-1, 28, 28, 1).astype('float32') / 255.0\n",
    "\n",
    "y_train = to_categorical(y_train, 10)\n",
    "y_test = to_categorical(y_test, 10)"
   ]
  },
  {
   "cell_type": "code",
   "execution_count": null,
   "metadata": {},
   "outputs": [],
   "source": [
    "# Model construction\n",
    "model = Sequential([\n",
    "    Conv2D(32, kernel_size=(3, 3), activation='relu', input_shape=(28, 28, 1)),\n",
    "    MaxPooling2D(pool_size=(2, 2)),\n",
    "    Conv2D(64, kernel_size=(3, 3), activation='relu'),\n",
    "    MaxPooling2D(pool_size=(2, 2)),\n",
    "    Flatten(),\n",
    "    Dense(128, activation='relu'),\n",
    "    Dropout(0.5),\n",
    "    Dense(10, activation='softmax')\n",
    "])\n",
    "\n",
    "model.compile(optimizer=Adam(), loss='categorical_crossentropy', metrics=['accuracy'])\n",
    "\n",
    "# Model training\n",
    "history = model.fit(X_train, y_train, epochs=10, batch_size=128, validation_split=0.2)"
   ]
  },
  {
   "cell_type": "code",
   "execution_count": null,
   "metadata": {},
   "outputs": [],
   "source": [
    "# Model eval\n",
    "test_loss, test_acc = model.evaluate(X_test, y_test)\n",
    "print('Test accuracy:', test_acc)\n",
    "print('Loss:', test_loss)\n",
    "\n",
    "# Save model\n",
    "model.save('digit_recognition_model.h5')"
   ]
  },
  {
   "cell_type": "code",
   "execution_count": null,
   "metadata": {},
   "outputs": [],
   "source": [
    "!wget \"https://www.dropbox.com/s/y9bs6r4nc7pj48c/digits.zip?dl=1\" -O digits.zip\n",
    "!unzip digits.zip\n",
    "data_dir = \"/content/digits\"\n",
    "output_dir = \"/content/categorized_digits\"\n",
    "os.makedirs(output_dir, exist_ok=True)"
   ]
  },
  {
   "cell_type": "code",
   "execution_count": null,
   "metadata": {},
   "outputs": [],
   "source": [
    "# Image preprocessing\n",
    "def load_and_preprocess_image(image_path):\n",
    "    img = load_img(image_path, color_mode='grayscale', target_size=(28, 28))\n",
    "    img_array = img_to_array(img)\n",
    "    img_array = img_array.reshape(1, 28, 28, 1)\n",
    "    img_array = img_array / 255.0\n",
    "    return img_array\n",
    "\n",
    "# Make predictions and count digit occurrences\n",
    "digit_counts = {i: 0 for i in range(10)}\n",
    "\n",
    "for filename in tqdm(os.listdir(data_dir)):\n",
    "    if filename.endswith(\".jpg\"):\n",
    "        img_path = os.path.join(data_dir, filename)\n",
    "        img_array = load_and_preprocess_image(img_path)  \n",
    "        prediction = model.predict(img_array)\n",
    "        predicted_digit = np.argmax(prediction)\n",
    "        digit_counts[predicted_digit] += 1\n",
    "\n",
    "        # Create a digit-specific subdirectory\n",
    "        digit_dir = os.path.join(output_dir, str(predicted_digit))\n",
    "        os.makedirs(digit_dir, exist_ok=True)\n",
    "\n",
    "        # Move the image to the corresponding subdirectory\n",
    "        new_image_path = os.path.join(digit_dir, filename)\n",
    "        shutil.move(img_path, new_image_path)\n",
    "\n",
    "print(\"Digit counts:\", digit_counts)"
   ]
  }
 ],
 "metadata": {
  "language_info": {
   "name": "python"
  }
 },
 "nbformat": 4,
 "nbformat_minor": 2
}
